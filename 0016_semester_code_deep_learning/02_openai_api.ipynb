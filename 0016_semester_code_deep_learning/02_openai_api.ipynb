{
 "cells": [
  {
   "cell_type": "markdown",
   "id": "b6a938ce",
   "metadata": {},
   "source": [
    "# A first mini-example for the OpenAI API"
   ]
  },
  {
   "cell_type": "code",
   "execution_count": 3,
   "id": "991777b4",
   "metadata": {},
   "outputs": [
    {
     "name": "stdout",
     "output_type": "stream",
     "text": [
      "Name: openai\n",
      "Version: 2.6.1\n",
      "Summary: The official Python library for the openai API\n",
      "Home-page: https://github.com/openai/openai-python\n",
      "Author: \n",
      "Author-email: OpenAI <support@openai.com>\n",
      "License: Apache-2.0\n",
      "Location: /home/juebrauer/miniconda3/envs/env_teaching/lib/python3.12/site-packages\n",
      "Requires: anyio, distro, httpx, jiter, pydantic, sniffio, tqdm, typing-extensions\n",
      "Required-by: \n"
     ]
    }
   ],
   "source": [
    "!pip show openai"
   ]
  },
  {
   "cell_type": "code",
   "execution_count": 4,
   "id": "d0778688",
   "metadata": {},
   "outputs": [
    {
     "name": "stdout",
     "output_type": "stream",
     "text": [
      "sk-pr\n"
     ]
    }
   ],
   "source": [
    "f = open(\"my_secrete_api_key.txt\", \"rt\")\n",
    "my_secrete_key = f.read()\n",
    "f.close()\n",
    "print(my_secrete_key[:5])"
   ]
  },
  {
   "cell_type": "code",
   "execution_count": 9,
   "id": "6ad76a59",
   "metadata": {},
   "outputs": [
    {
     "name": "stdout",
     "output_type": "stream",
     "text": [
      "Kurzfassung:\n",
      "- Informatik (M.Sc.), Vollzeit, 3 Semester, Fakultät Informatik\n",
      "\n",
      "Hinweis: Die Hochschule Kempten bietet zusätzlich immer wieder berufsbegleitende Weiterbildungs‑Master mit IT-Bezug über die Graduate School an; das konkrete Angebot kann sich ändern.\n",
      "\n",
      "Möchtest du nur die regulären Vollzeit-Master der Fakultät Informatik, oder auch die berufsbegleitenden/Weiterbildungsprogramme? Wenn du magst, nenne ich dir Inhalte, Zulassung und Fristen und zeige dir, wo du die aktuellen Infos auf der Website findest.\n"
     ]
    }
   ],
   "source": [
    "import os\n",
    "from openai import OpenAI\n",
    "\n",
    "client = OpenAI(api_key=my_secrete_key)\n",
    "\n",
    "response = client.responses.create(\n",
    "    model=\"gpt-5\",\n",
    "    instructions=\"\",\n",
    "    input=\"Was für Informatik-Masterstudiengänge hat die Hochschule Kempten?\",\n",
    ")\n",
    "\n",
    "print(response.output_text)"
   ]
  },
  {
   "cell_type": "markdown",
   "id": "b0d94330",
   "metadata": {},
   "source": [
    "# My first chat-bot"
   ]
  },
  {
   "cell_type": "code",
   "execution_count": 3,
   "id": "cbddede6",
   "metadata": {},
   "outputs": [
    {
     "name": "stdout",
     "output_type": "stream",
     "text": [
      "Du> Hallo! Ich heiße Jürgen\n",
      "\n",
      "Bot> Hallo Jürgen — schön, dich kennenzulernen! Wie kann ich dir heute helfen?\n",
      "\n",
      "Du> Ich bin sehr vergesslich. Weißt du noch meinen Namen?\n",
      "\n",
      "Bot> Ja — du heißt Jürgen.  \n",
      "(In dieser Unterhaltung merke ich mir das; standardmäßig kann ich mir zwischen getrennten Sitzungen keine persönlichen Daten dauerhaft merken.)  \n",
      "\n",
      "Möchtest du, dass ich dir Tipps gegen Vergesslichkeit gebe oder dir helfe, Erinnerungen/Listen einzurichten?\n",
      "\n",
      "Du> Nein, danke. Noch eine Info über mich: ich arbeite an der Hochschule Kempten\n",
      "\n",
      "Bot> Danke, Jürgen — du arbeitest an der Hochschule Kempten. Ich merke mir das in dieser Unterhaltung; über Sitzungen hinweg speichere ich solche Infos nicht dauerhaft.  \n",
      "\n",
      "Möchtest du, dass ich dir jetzt bei etwas Konkretem helfe (z. B. Termine, Erinnerungslisten, Infos oder Materialien zur Hochschule)?\n",
      "\n",
      "Du> Was weißt du inzwischen alles über mich?\n",
      "\n",
      "Bot> Im Moment weiß ich in dieser Unterhaltung Folgendes über dich:\n",
      "\n",
      "- Dein Name: Jürgen  \n",
      "- Du arbeitest an der Hochschule Kempten  \n",
      "- Du hast gesagt, dass du sehr vergesslich bist  \n",
      "- Du hast abgelehnt, jetzt Tipps gegen Vergesslichkeit zu bekommen\n",
      "\n",
      "Ich merke mir das nur für diese Sitzung — ich speichere solche persönlichen Daten nicht dauerhaft über verschiedene Sitzungen hinweg. Soll ich etwas davon jetzt „vergessen“ oder möchtest du noch etwas hinzufügen oder ändern?\n",
      "\n",
      "history:\n",
      "------------------------------------------------------------\n",
      "[{'role': 'user', 'content': 'Hallo! Ich heiße Jürgen'}, {'role': 'assistant', 'content': 'Hallo Jürgen — schön, dich kennenzulernen! Wie kann ich dir heute helfen?'}, {'role': 'user', 'content': 'Ich bin sehr vergesslich. Weißt du noch meinen Namen?'}, {'role': 'assistant', 'content': 'Ja — du heißt Jürgen.  \\n(In dieser Unterhaltung merke ich mir das; standardmäßig kann ich mir zwischen getrennten Sitzungen keine persönlichen Daten dauerhaft merken.)  \\n\\nMöchtest du, dass ich dir Tipps gegen Vergesslichkeit gebe oder dir helfe, Erinnerungen/Listen einzurichten?'}, {'role': 'user', 'content': 'Nein, danke. Noch eine Info über mich: ich arbeite an der Hochschule Kempten'}, {'role': 'assistant', 'content': 'Danke, Jürgen — du arbeitest an der Hochschule Kempten. Ich merke mir das in dieser Unterhaltung; über Sitzungen hinweg speichere ich solche Infos nicht dauerhaft.  \\n\\nMöchtest du, dass ich dir jetzt bei etwas Konkretem helfe (z. B. Termine, Erinnerungslisten, Infos oder Materialien zur Hochschule)?'}, {'role': 'user', 'content': 'Was weißt du inzwischen alles über mich?'}, {'role': 'assistant', 'content': 'Im Moment weiß ich in dieser Unterhaltung Folgendes über dich:\\n\\n- Dein Name: Jürgen  \\n- Du arbeitest an der Hochschule Kempten  \\n- Du hast gesagt, dass du sehr vergesslich bist  \\n- Du hast abgelehnt, jetzt Tipps gegen Vergesslichkeit zu bekommen\\n\\nIch merke mir das nur für diese Sitzung — ich speichere solche persönlichen Daten nicht dauerhaft über verschiedene Sitzungen hinweg. Soll ich etwas davon jetzt „vergessen“ oder möchtest du noch etwas hinzufügen oder ändern?'}]\n"
     ]
    }
   ],
   "source": [
    "import os\n",
    "from openai import OpenAI\n",
    "\n",
    "f = open(\"my_secrete_api_key.txt\", \"rt\")\n",
    "my_secrete_key = f.read()\n",
    "f.close()\n",
    "\n",
    "client = OpenAI(api_key=my_secrete_key)\n",
    "\n",
    "\n",
    "history = []\n",
    "while True:\n",
    "\n",
    "    user_input = input(\"Du> \")\n",
    "    if user_input == \"exit\":\n",
    "        break\n",
    "\n",
    "    history.append( { \"role\": \"user\", \"content\": user_input} )\n",
    "\n",
    "    response = client.responses.create(\n",
    "        model=\"gpt-5-mini\",\n",
    "        instructions=\"\",\n",
    "        input=history\n",
    "    )\n",
    "\n",
    "    history.append( { \"role\": \"assistant\", \"content\": response.output_text} )\n",
    "\n",
    "    print(f\"Du> {user_input}\\n\")\n",
    "    print(f\"Bot> {response.output_text}\\n\")\n",
    "\n",
    "print(\"history:\")\n",
    "print(\"-\"*60)\n",
    "print(history)"
   ]
  },
  {
   "cell_type": "code",
   "execution_count": null,
   "id": "c811b1b7",
   "metadata": {},
   "outputs": [],
   "source": []
  }
 ],
 "metadata": {
  "kernelspec": {
   "display_name": "env_teaching",
   "language": "python",
   "name": "python3"
  },
  "language_info": {
   "codemirror_mode": {
    "name": "ipython",
    "version": 3
   },
   "file_extension": ".py",
   "mimetype": "text/x-python",
   "name": "python",
   "nbconvert_exporter": "python",
   "pygments_lexer": "ipython3",
   "version": "3.12.11"
  }
 },
 "nbformat": 4,
 "nbformat_minor": 5
}
